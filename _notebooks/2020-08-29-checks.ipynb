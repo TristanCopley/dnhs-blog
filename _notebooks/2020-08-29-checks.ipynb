{
 "cells": [
  {
   "cell_type": "markdown",
   "metadata": {},
   "source": [
    "# Checks\n",
    "> Checks for console installations\n",
    "\n",
    "- toc: true \n",
    "- badges: true\n",
    "- comments: true\n",
    "- categories: [jupyter]\n",
    "- image: images/chart-preview.png\n",
    "- title: Checks for installations"
   ]
  },
  {
   "cell_type": "code",
   "execution_count": 10,
   "metadata": {
    "vscode": {
     "languageId": "shellscript"
    }
   },
   "outputs": [
    {
     "name": "stdout",
     "output_type": "stream",
     "text": [
      "Python 3.9.12\n",
      "Python 2.7.18\n",
      "Python 3.9.12\n",
      "conda 4.13.0\n",
      "Selected Jupyter core packages...\n",
      "IPython          : 8.2.0\n",
      "ipykernel        : 6.9.1\n",
      "ipywidgets       : 7.6.5\n",
      "jupyter_client   : 6.1.12\n",
      "jupyter_core     : 4.9.2\n",
      "jupyter_server   : 1.13.5\n",
      "jupyterlab       : 3.3.2\n",
      "nbclient         : 0.5.13\n",
      "nbconvert        : 6.4.4\n",
      "nbformat         : 5.3.0\n",
      "notebook         : 6.4.8\n",
      "qtconsole        : 5.3.0\n",
      "traitlets        : 5.1.1\n",
      "Available kernels:\n",
      "  python3912jvsc74a57bd00a5aca3dd4806e9dff1f4f9e908a527b197091f2275dd8883ea66601e4d4e36e    /Users/tristancopley/.vscode/extensions/ms-toolsai.jupyter-2022.7.1102252217/temp/jupyter/kernels/python3912jvsc74a57bd00a5aca3dd4806e9dff1f4f9e908a527b197091f2275dd8883ea66601e4d4e36e\n",
      "  bash                                                                                      /Users/tristancopley/Library/Jupyter/kernels/bash\n",
      "  java                                                                                      /Users/tristancopley/Library/Jupyter/kernels/java\n",
      "  javascript                                                                                /Users/tristancopley/Library/Jupyter/kernels/javascript\n",
      "  python3                                                                                   /Users/tristancopley/opt/anaconda3/share/jupyter/kernels/python3\n"
     ]
    }
   ],
   "source": [
    "python --version\n",
    "python2 --version\n",
    "python3 --version\n",
    "\n",
    "conda --version\n",
    "\n",
    "jupyter --version\n",
    "\n",
    "jupyter kernelspec list\n"
   ]
  }
 ],
 "metadata": {
  "kernelspec": {
   "display_name": "Bash",
   "language": "bash",
   "name": "bash"
  },
  "language_info": {
   "codemirror_mode": "shell",
   "file_extension": ".sh",
   "mimetype": "text/x-sh",
   "name": "bash"
  },
  "orig_nbformat": 4,
  "vscode": {
   "interpreter": {
    "hash": "0a5aca3dd4806e9dff1f4f9e908a527b197091f2275dd8883ea66601e4d4e36e"
   }
  }
 },
 "nbformat": 4,
 "nbformat_minor": 2
}
