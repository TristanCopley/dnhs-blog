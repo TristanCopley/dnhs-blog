{
 "cells": [
  {
   "cell_type": "markdown",
   "metadata": {},
   "source": [
    "# Arrays and lists\n",
    "> Self-explanatory\n",
    "\n",
    "- toc: true \n",
    "- badges: true\n",
    "- comments: true\n",
    "- categories: [jupyter]\n",
    "- title: Arrays and Lists.\n",
    "- hide: false"
   ]
  },
  {
   "cell_type": "code",
   "execution_count": 35,
   "metadata": {},
   "outputs": [
    {
     "name": "stdout",
     "output_type": "stream",
     "text": [
      "Add an item:\n",
      "[]\n",
      "[1]\n",
      "\n",
      "Add items from another list:\n",
      "[1]\n",
      "[-5, -4, -3, -2, -1, 1]\n",
      "\n",
      "Get size of array:\n",
      "6\n",
      "\n",
      "This method is used to remove all the elements in the list\n",
      "[-5, -4, -3, -2, -1, 1]\n",
      "[]\n",
      "\n",
      "This method removes an element from the specified index:\n",
      "[5, 4, 3, 2, 1]\n",
      "[5, 3, 2, 1]\n",
      "\n",
      "This method removes an element from the specified index:\n",
      "[5, 3, 2, 1]\n",
      "[3, 2, 1]\n",
      "\n"
     ]
    }
   ],
   "source": [
    "import java.util.ArrayList;\n",
    "\n",
    "public class Main {\n",
    "\n",
    "    public static void main(String[] args) {\n",
    "\n",
    "        ArrayList<Integer> ints1 = new ArrayList<Integer>();\n",
    "        ArrayList<Integer> ints2 = new ArrayList<Integer>();\n",
    "\n",
    "        ints2.add(0, -1);\n",
    "        ints2.add(0, -2);\n",
    "        ints2.add(0, -3);\n",
    "        ints2.add(0, -4);\n",
    "        ints2.add(0, -5);\n",
    "\n",
    "        // Add an item:\n",
    "        System.out.println(\"Add an item:\");\n",
    "        System.out.println(ints1);\n",
    "        ints1.add(0, 1);\n",
    "        System.out.println(ints1);\n",
    "        System.out.println(\"\");\n",
    "\n",
    "        // Add items from another list:\n",
    "        System.out.println(\"Add items from another list:\");\n",
    "        System.out.println(ints1);\n",
    "        ints1.addAll(0, ints2);\n",
    "        System.out.println(ints1);\n",
    "        System.out.println(\"\");\n",
    "\n",
    "        // Get size of array:\n",
    "        System.out.println(\"Get size of array:\");\n",
    "        System.out.println(ints1.size());\n",
    "        System.out.println(\"\");\n",
    "\n",
    "        // This method is used to remove all the elements in the list:\n",
    "        System.out.println(\"This method is used to remove all the elements in the list\");\n",
    "        System.out.println(ints1);\n",
    "        ints1.clear();\n",
    "        System.out.println(ints1);\n",
    "        System.out.println(\"\");\n",
    "\n",
    "        ints1.add(0, 1);\n",
    "        ints1.add(0, 2);\n",
    "        ints1.add(0, 3);\n",
    "        ints1.add(0, 4);\n",
    "        ints1.add(0, 5);\n",
    "\n",
    "        // This method removes an element from the specified index:\n",
    "        System.out.println(\"This method removes an element from the specified index:\");\n",
    "        System.out.println(ints1);\n",
    "        ints1.remove(1);\n",
    "        System.out.println(ints1);\n",
    "        System.out.println(\"\");\n",
    "\n",
    "        // This method is used to remove the first occurrence of the given element in the list\n",
    "        System.out.println(\"This method removes an element from the specified index:\");\n",
    "        System.out.println(ints1);\n",
    "        ints1.remove(0);\n",
    "        System.out.println(ints1);\n",
    "        System.out.println(\"\");\n",
    "\n",
    "    }\n",
    "\n",
    "}\n",
    "\n",
    "Main.main(null);"
   ]
  }
 ],
 "metadata": {
  "kernelspec": {
   "display_name": "Java",
   "language": "java",
   "name": "java"
  },
  "language_info": {
   "codemirror_mode": "java",
   "file_extension": ".jshell",
   "mimetype": "text/x-java-source",
   "name": "java",
   "pygments_lexer": "java",
   "version": "18.0.2+0"
  },
  "orig_nbformat": 4,
  "vscode": {
   "interpreter": {
    "hash": "b0fa6594d8f4cbf19f97940f81e996739fb7646882a419484c72d19e05852a7e"
   }
  }
 },
 "nbformat": 4,
 "nbformat_minor": 2
}
