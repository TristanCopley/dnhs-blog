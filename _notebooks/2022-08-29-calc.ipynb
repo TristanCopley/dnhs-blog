{
 "cells": [
  {
   "cell_type": "markdown",
   "metadata": {},
   "source": [
    "# Number Averager Calculator\n",
    "> Code for Java\n",
    "\n",
    "- toc: true \n",
    "- badges: true\n",
    "- comments: true\n",
    "- categories: [jupyter]\n",
    "- image: images/chart-preview.png\n",
    "- title: Java Average Calculator"
   ]
  },
  {
   "cell_type": "code",
   "execution_count": 16,
   "metadata": {},
   "outputs": [
    {
     "name": "stdout",
     "output_type": "stream",
     "text": [
      "How many numbers do you want to average: 2.0\n",
      "Add your first number: 1.0\n",
      "Add another number: 3.0\n",
      "Your average is: 2.0\n"
     ]
    }
   ],
   "source": [
    "// java style to import library\n",
    "import java.util.Scanner;\n",
    "\n",
    "// class must alway have 1st letter as uppercase, CamelCase is Java Class convention\n",
    "public class ScanPrimitives {\n",
    "    public static void main(String[] args) {    \n",
    "        Scanner input;\n",
    "\n",
    "        double sampleInputInt = 0.0;\n",
    "        double total = 0;\n",
    "\n",
    "        // primitive int\n",
    "        input = new Scanner(System.in);\n",
    "        System.out.print(\"How many numbers do you want to average: \");\n",
    "        try {\n",
    "            sampleInputInt = input.nextInt();\n",
    "            System.out.println(sampleInputInt);\n",
    "        } catch (Exception e) {  // if not an integer\n",
    "            System.out.println(\"Not an int (form like 159), \" + e);\n",
    "        }\n",
    "        input.close();\n",
    "        \n",
    "        for (int i = 0; i < sampleInputInt; i += 1)\n",
    "        {\n",
    "            if (i == 0) {\n",
    "\n",
    "                System.out.print(\"Add your first number: \");\n",
    "                \n",
    "            } else {\n",
    "\n",
    "                System.out.print(\"Add another number: \");\n",
    "\n",
    "            }\n",
    "            input = new Scanner(System.in);\n",
    "        try {\n",
    "            double sampleInputDouble = input.nextDouble();\n",
    "            System.out.println(sampleInputDouble);\n",
    "            total += sampleInputDouble;\n",
    "        } catch (Exception e) {  // if not an integer\n",
    "            System.out.println(\"Not a double (form like 159 or 1.1), \" + e);\n",
    "        }\n",
    "        input.close();\n",
    "\n",
    "        }\n",
    "\n",
    "        total /= sampleInputInt;\n",
    "\n",
    "        System.out.print(\"Your average is: \");\n",
    "        System.out.println(total);\n",
    "        \n",
    "    }\n",
    "}\n",
    "ScanPrimitives.main(null);"
   ]
  }
 ],
 "metadata": {
  "kernelspec": {
   "display_name": "Java",
   "language": "java",
   "name": "java"
  },
  "language_info": {
   "codemirror_mode": "java",
   "file_extension": ".jshell",
   "mimetype": "text/x-java-source",
   "name": "java",
   "pygments_lexer": "java",
   "version": "18.0.2+0"
  },
  "orig_nbformat": 4,
  "vscode": {
   "interpreter": {
    "hash": "b0fa6594d8f4cbf19f97940f81e996739fb7646882a419484c72d19e05852a7e"
   }
  }
 },
 "nbformat": 4,
 "nbformat_minor": 2
}
