{
 "cells": [
  {
   "cell_type": "markdown",
   "metadata": {},
   "source": [
    "# Final blog\n",
    "> Final Blog for Trimester 1\n",
    "\n",
    "- toc: true \n",
    "- badges: true\n",
    "- comments: true\n",
    "- categories: [jupyter]\n",
    "- image: images/chart-preview.png\n",
    "- title: Final Blog\n",
    "\n",
    "# Practice MCQ\n",
    "![img](../images/otroimg.png)\n",
    "\n",
    "I got two problems wrong.\n",
    "- Problem 1: I forgot that int division returns another int. I was thinking of JavaScript when I answered.\n",
    "- Problem 2: I did not see that the loop had a k+1 in it, while the loop went over every item in the list. Therefore it would have a OutOfBounds error.\n",
    "\n",
    "# Homeworks\n",
    "### Did not do all homeworks or notes, instead I did [LeetCode](https://leetcode.com/TristanCopley/)"
   ]
  }
 ],
 "metadata": {
  "kernelspec": {
   "display_name": "Java",
   "language": "java",
   "name": "java"
  },
  "language_info": {
   "name": "java",
   "version": "3.10.6"
  },
  "orig_nbformat": 4,
  "vscode": {
   "interpreter": {
    "hash": "b0fa6594d8f4cbf19f97940f81e996739fb7646882a419484c72d19e05852a7e"
   }
  }
 },
 "nbformat": 4,
 "nbformat_minor": 2
}
