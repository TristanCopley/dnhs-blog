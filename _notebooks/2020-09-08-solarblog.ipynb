{
 "cells": [
  {
   "cell_type": "markdown",
   "metadata": {},
   "source": [
    "---\n",
    "keywords: solar\n",
    "description: Making your own solar system webpage\n",
    "title: Custom solar systems\n",
    "toc: true \n",
    "badges: true\n",
    "comments: true\n",
    "categories: [jupyter]\n",
    "image: images/chart-preview.png\n",
    "nb_path: _notebooks/2022-09-08-solarblog.ipynb\n",
    "layout: notebook\n",
    "---"
   ]
  },
  {
   "cell_type": "code",
   "execution_count": null,
   "metadata": {},
   "outputs": [],
   "source": []
  }
 ],
 "metadata": {
  "kernelspec": {
   "display_name": "JavaScript (Node.js)",
   "language": "javascript",
   "name": "javascript"
  },
  "language_info": {
   "name": "javascript"
  },
  "orig_nbformat": 4
 },
 "nbformat": 4,
 "nbformat_minor": 2
}
