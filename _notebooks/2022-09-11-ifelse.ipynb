{
 "cells": [
  {
   "cell_type": "markdown",
   "metadata": {},
   "source": [
    "# If Else explanations\n",
    "> Code for IF-ELSE\n",
    "\n",
    "- toc: true \n",
    "- badges: true\n",
    "- comments: true\n",
    "- categories: [jupyter]\n",
    "- image: images/chart-preview.png\n",
    "- title: IF-ELSE Explanations"
   ]
  },
  {
   "cell_type": "code",
   "execution_count": null,
   "metadata": {},
   "outputs": [],
   "source": [
    "// All of the boolean expressions below evaluate to true\n",
    "\n",
    "if (true) {\n",
    "    System.out.println(\"True code block\");\n",
    "}\n",
    "\n",
    "if (true && !false) {\n",
    "    System.out.println(\"True and Not False code block\");\n",
    "}\n",
    "\n",
    "if (true || false) {\n",
    "    System.out.println(\"True or False code block\");\n",
    "}\n",
    "\n",
    "if ((true && !false) && (true || false)) {\n",
    "    System.out.println(\"Confusing code block\");\n",
    "}\n",
    "\n",
    "if (!((false || !true) || (false && true))) {\n",
    "    System.out.println(\"De Morgan's law in my head of confusing code block\");\n",
    "}\n",
    "\n",
    "// Can any of the above expression be simplified?  What would they simplify to?  Are any of these expressions useful?"
   ]
  },
  {
   "cell_type": "markdown",
   "metadata": {},
   "source": [
    "They can all be simplified down to just ```System.out.println(\"True\");```. Also, these are all useless. Wrapping code in a statment that is guaranteed to be true doesn't make sense. However, if you were to replace true/false with variables they may appear to be useful.\n",
    "\n",
    "A combination of && and || and ! are useful for many different occasions.\n",
    "\n",
    "\n",
    "# Notes\n",
    "\n",
    "If, else and booleans are useful. I use a complex set of IF and ELSE statments with boolean parameters in [this project](https://scratch.mit.edu/projects/264691939/fullscreen/). This is an example of my extensive knowledge of if - else statments.\n",
    "\n",
    "De Morgan's Law\n",
    "Complex conditional statements can be hard to evaluate when looking at \"!\" or \"not\" operators, and comparison operators, like >, <, >=, <=, ||, &&, and more\n",
    "\n",
    "De morgan's law helps by explaining how operators change when a \"!\" negation is present\n",
    "\n",
    "Conversions:\n",
    "<= goes to >\n",
    "\\>= goes to <\n",
    "< goes to >=\n",
    "\\> goes to <=\n",
    "== goes to !=\n",
    "!= becomes ==\n"
   ]
  }
 ],
 "metadata": {
  "kernelspec": {
   "display_name": "Java",
   "language": "java",
   "name": "java"
  },
  "language_info": {
   "name": "java"
  },
  "orig_nbformat": 4
 },
 "nbformat": 4,
 "nbformat_minor": 2
}
